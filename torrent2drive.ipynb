{
  "cells": [
    {
      "cell_type": "code",
      "source": [
        "# ================================================================\n",
        "# 🚀 Google Colab Auto Installer (Optimized & Fixed Version)\n",
        "# By RJ Sheesh | Fixed by ChatGPT\n",
        "# ================================================================\n",
        "\n",
        "import os\n",
        "import subprocess\n",
        "from google.colab import drive\n",
        "from IPython.display import clear_output\n",
        "\n",
        "# ---------- Configuration ----------\n",
        "TORRENTS_DIR = \"/content/drive/MyDrive/Torrents\"\n",
        "\n",
        "# ---------- Utility Functions ----------\n",
        "def log(msg):\n",
        "    print(f\"\\033[92m{msg}\\033[0m\")  # Green\n",
        "\n",
        "def warn(msg):\n",
        "    print(f\"\\033[93m{msg}\\033[0m\")  # Yellow\n",
        "\n",
        "def run_command(command, description):\n",
        "    log(f\"🔄 {description}...\")\n",
        "    result = subprocess.run(command, shell=True, capture_output=True, text=True)\n",
        "    if result.returncode != 0:\n",
        "        print(f\"\\033[91mError running command: {command}\\033[0m\")\n",
        "        print(f\"Stderr: {result.stderr}\")\n",
        "        raise RuntimeError(f\"Failed to execute: {description}\")\n",
        "    clear_output(wait=True)\n",
        "    log(f\"✅ {description} complete!\")\n",
        "\n",
        "# ---------- Main Execution ----------\n",
        "try:\n",
        "    # Step 1: Mount Google Drive\n",
        "    log(\"🔄 Step 1: Mounting Google Drive...\")\n",
        "    drive.mount('/content/drive')\n",
        "    clear_output(wait=True)\n",
        "    log(\"✅ Google Drive Mounted Successfully!\")\n",
        "\n",
        "    # Step 2: Install Python 3.10\n",
        "    run_command(\n",
        "        \"apt-get update -y && \"\n",
        "        \"apt-get install -y software-properties-common && \"\n",
        "        \"add-apt-repository -y ppa:deadsnakes/ppa && \"\n",
        "        \"apt-get update -y && \"\n",
        "        \"apt-get install -y python3.10 python3.10-dev python3.10-distutils libpython3.10-dev curl\",\n",
        "        \"Installing Python 3.10 and dependencies\"\n",
        "    )\n",
        "\n",
        "    # Step 3: Create Torrents Folder\n",
        "    if not os.path.exists(TORRENTS_DIR):\n",
        "        log(f\"📁 Creating folder: {TORRENTS_DIR}\")\n",
        "        os.makedirs(TORRENTS_DIR)\n",
        "    else:\n",
        "        warn(f\"✅ Folder already exists: {TORRENTS_DIR}\")\n",
        "\n",
        "    # Step 4: Install pip for Python 3.10\n",
        "    run_command(\n",
        "        \"curl https://bootstrap.pypa.io/get-pip.py -o get-pip.py && \"\n",
        "        \"python3.10 get-pip.py\",\n",
        "        \"Installing pip for Python 3.10\"\n",
        "    )\n",
        "\n",
        "    # Step 5: Install required Python packages\n",
        "    run_command(\n",
        "        \"python3.10 -m pip install --upgrade pip && \"\n",
        "        \"python3.10 -m pip install libtorrent IPython tqdm colorama\",\n",
        "        \"Installing required Python packages\"\n",
        "    )\n",
        "\n",
        "    # Step 6: Install aria2 (fixed)\n",
        "    run_command(\n",
        "        \"apt-get install -y aria2\",\n",
        "        \"Installing aria2\"\n",
        "    )\n",
        "\n",
        "    # Final Step\n",
        "    os.chdir(TORRENTS_DIR)\n",
        "    log(\"🎉 All tasks completed successfully!\")\n",
        "    print(f\"\\nPython 3.10, pip, aria2 and all packages installed.\")\n",
        "    print(f\"Current directory: {os.getcwd()}\")\n",
        "\n",
        "except Exception as e:\n",
        "    print(f\"\\033[91m❌ An error occurred: {e}\\033[0m\")\n"
      ],
      "metadata": {
        "id": "8T57WIiyU0Pq"
      },
      "execution_count": null,
      "outputs": []
    },
    {
      "cell_type": "code",
      "source": [
        "# Now Try Version v1 Run\n",
        "!python3.10 /content/drive/MyDrive/Torrents/tor2gd_v1.py"
      ],
      "metadata": {
        "id": "HYQDLAef9lhg"
      },
      "execution_count": null,
      "outputs": []
    },
    {
      "cell_type": "code",
      "source": [
        "# Now Try Version v2 Run\n",
        "!python3.10 /content/drive/MyDrive/Torrents/tor2gd_v2.py"
      ],
      "metadata": {
        "id": "DvT7YvLtX8YU"
      },
      "execution_count": null,
      "outputs": []
    },
    {
      "cell_type": "code",
      "source": [
        "# Now Try Version v3 Run\n",
        "!python3 /content/drive/MyDrive/Torrents/tor2gd_v3.py"
      ],
      "metadata": {
        "id": "D7fMK02LMKLG"
      },
      "execution_count": null,
      "outputs": []
    }
  ],
  "metadata": {
    "colab": {
      "provenance": []
    },
    "kernelspec": {
      "display_name": "Python 3",
      "name": "python3"
    }
  },
  "nbformat": 4,
  "nbformat_minor": 0
}